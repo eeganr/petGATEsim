{
 "cells": [
  {
   "cell_type": "code",
   "execution_count": 3,
   "id": "fab99d45",
   "metadata": {},
   "outputs": [],
   "source": [
    "import matplotlib.pyplot as plt\n",
    "import numpy as np"
   ]
  },
  {
   "cell_type": "code",
   "execution_count": 194,
   "id": "d878e75d",
   "metadata": {},
   "outputs": [],
   "source": [
    "DETECTORS_SIM = 12288\n",
    "MODULES = 16\n",
    "crystals_per_det = DETECTORS_SIM // MODULES"
   ]
  },
  {
   "cell_type": "code",
   "execution_count": 195,
   "id": "28bf04bb",
   "metadata": {},
   "outputs": [],
   "source": [
    "filename = '11_15_coin.lm'\n",
    "\n",
    "data = np.memmap(filename, dtype=np.float32, mode='r')\n",
    "data = data.reshape(-1, 10)\n",
    "\n",
    "tofs = data[:, 3]\n",
    "\n",
    "filename = '11_15_delay.lm'\n",
    "\n",
    "delay = np.memmap(filename, dtype=np.float32, mode='r')\n",
    "delay = delay.reshape(-1, 10)\n",
    "\n",
    "deltofs = delay[:, 3]\n",
    "\n",
    "filename = '11_15_actual.lm'\n",
    "\n",
    "act = np.memmap(filename, dtype=np.float32, mode='r')\n",
    "act = act.reshape(-1, 10)\n",
    "\n",
    "acttofs = act[:, 3]"
   ]
  },
  {
   "cell_type": "code",
   "execution_count": 263,
   "id": "76a07b52",
   "metadata": {},
   "outputs": [],
   "source": [
    "def match_actuals(data, act):\n",
    "    datasort = np.lexsort((data[:, 3], data[:, -1], data[:, -2]))\n",
    "    unsort = np.argsort(datasort)\n",
    "    data = data[datasort]\n",
    "    act = act[np.lexsort((act[:, 3], act[:, -1], act[:, -2]))]\n",
    "    israndom = np.zeros(data.shape[0], dtype=bool)\n",
    "    dat_i = 0\n",
    "    act_i = 0\n",
    "    while act_i < act.shape[0]:\n",
    "        if (data[dat_i][3] == act[act_i][3]):\n",
    "            israndom[dat_i] = True\n",
    "            act_i += 1\n",
    "        dat_i += 1\n",
    "    return israndom[unsort]"
   ]
  },
  {
   "cell_type": "code",
   "execution_count": 651,
   "id": "7e0f946e",
   "metadata": {},
   "outputs": [],
   "source": [
    "def rm_random(data, delay):\n",
    "\n",
    "    coin = np.array([\n",
    "        np.concatenate(( # coin lors followed by delay lors\n",
    "            data[:, 8].astype(np.int64) * DETECTORS_SIM + data[:, 9].astype(np.int64), \n",
    "            delay[:, 8].astype(np.int64) * DETECTORS_SIM + delay[:, 9].astype(np.int64)\n",
    "        )),\n",
    "        np.concatenate(( # zeros followed by ones\n",
    "            np.zeros(data.shape[0]),\n",
    "            np.ones(delay.shape[0])\n",
    "        )),\n",
    "        np.concatenate(( # crystal ID 1s followed by delay crystal ID 1s\n",
    "            data[:, 8],\n",
    "            delay[:, 8]\n",
    "        )),\n",
    "        np.concatenate(( # crystal ID 2s followed by delay crystal ID 2s\n",
    "            data[:, 9],\n",
    "            delay[:, 9]\n",
    "        )),\n",
    "        np.concatenate(( # TOFs followed by delay TOFs\n",
    "            data[:, 3],\n",
    "            delay[:, 3]\n",
    "        )),\n",
    "    ],dtype=np.float64)\n",
    "    \n",
    "    #### subtract coin events which have same nearby delay events with same LOR id.\n",
    "\n",
    "    index = np.linspace(0, data.shape[0] + delay.shape[0] - 1, data.shape[0] + delay.shape[0], dtype = np.int64)\n",
    "    print(index.size)\n",
    "    #### sort based on coin/delay id << time << LOR id\n",
    "    argsort = np.lexsort((coin[1,:], coin[4,:], coin[0,:]))\n",
    "    coin_sorted = coin[:,argsort]\n",
    "    index = index[argsort]\n",
    "    prev = 0\n",
    "\n",
    "    for i in range(1000):\n",
    "        #### same LOR crystal pair but one coin and one delay\n",
    "        valid = np.insert((np.diff(coin_sorted[0,]) == 0)&(np.diff(coin_sorted[1,]) == 1),0,False)\n",
    "        ###               --- within same LOR        ---  and next is delay but ours is coin ---\n",
    "        valid2 = (coin_sorted[1,:] == 1) # is a delay\n",
    "        curr = np.sum(valid2) # number of delays\n",
    "        print(\"residual delay: \", curr) \n",
    "        if(curr == prev or curr == 0):\n",
    "            index = index[~valid2] # gets rid of remaining delays\n",
    "            break\n",
    "        prev = curr \n",
    "        valid = valid | (np.insert(valid[1:],valid.size - 1,False)) # insert false at end\n",
    "        index = index[~valid]\n",
    "        coin_sorted = coin_sorted[:,~valid]\n",
    "\n",
    "    return index"
   ]
  },
  {
   "cell_type": "code",
   "execution_count": 629,
   "id": "6a96d7a4",
   "metadata": {},
   "outputs": [],
   "source": [
    "def gen_sp_randoms(i, j, filename):\n",
    "    def slice_sp(i, j):\n",
    "        start_i = i * crystals_per_det\n",
    "        stop_i = (i + 1) * crystals_per_det\n",
    "        start_j = j * crystals_per_det\n",
    "        stop_j = (j + 1) * crystals_per_det\n",
    "        return slice(start_i, stop_i), slice(start_j, stop_j)\n",
    "    \n",
    "    sp = np.load(filename)\n",
    "    sec = sp[slice_sp(i, j)]\n",
    "\n",
    "    sec_int = np.floor(sec) + np.astype(np.random.rand(*sec.shape) < sec % 1, np.int64)\n",
    "    sec_int = sec_int.astype(np.int64)\n",
    "    sp_randoms = np.sum(sec_int)\n",
    "    sp_gen = np.array([\n",
    "        np.zeros(sp_randoms), np.zeros(sp_randoms), np.zeros(sp_randoms),\n",
    "        np.random.rand(sp_randoms) * (np.max(tofs) - np.min(tofs)) + np.min(tofs),\n",
    "        np.zeros(sp_randoms), np.zeros(sp_randoms), np.zeros(sp_randoms), np.zeros(sp_randoms),\n",
    "        np.concatenate([np.full(np.int64(np.sum(sec_int[row])), row + i * crystals_per_det) for row in range(crystals_per_det)]),\n",
    "        np.concat([np.repeat(np.arange(j * crystals_per_det, (j + 1) * crystals_per_det), sec_int[col]) for col in range(crystals_per_det)])\n",
    "    ]).T\n",
    "\n",
    "    return sp_gen"
   ]
  },
  {
   "cell_type": "code",
   "execution_count": 199,
   "id": "b3ad804f",
   "metadata": {},
   "outputs": [],
   "source": [
    "sps = gen_sp_randoms(11, 15, 'sp.npy')\n",
    "sptofs = sps[:, 3]"
   ]
  },
  {
   "cell_type": "code",
   "execution_count": 685,
   "id": "c4fbbc1c",
   "metadata": {},
   "outputs": [
    {
     "name": "stdout",
     "output_type": "stream",
     "text": [
      "25926759\n",
      "residual delay:  8312112\n",
      "residual delay:  3864135\n",
      "residual delay:  2615178\n",
      "residual delay:  2067407\n",
      "residual delay:  1783768\n",
      "residual delay:  1628232\n",
      "residual delay:  1543453\n",
      "residual delay:  1499370\n",
      "residual delay:  1477813\n",
      "residual delay:  1467889\n",
      "residual delay:  1463662\n",
      "residual delay:  1461917\n",
      "residual delay:  1461264\n",
      "residual delay:  1461039\n",
      "residual delay:  1460961\n",
      "residual delay:  1460930\n",
      "residual delay:  1460923\n",
      "residual delay:  1460919\n",
      "residual delay:  1460918\n",
      "residual delay:  1460918\n",
      "25074613\n",
      "residual delay:  7459966\n",
      "residual delay:  3\n",
      "residual delay:  0\n",
      "24891736\n",
      "residual delay:  7277089\n",
      "residual delay:  3115088\n",
      "residual delay:  1966836\n",
      "residual delay:  1492696\n",
      "residual delay:  1280637\n",
      "residual delay:  1189233\n",
      "residual delay:  1153672\n",
      "residual delay:  1141839\n",
      "residual delay:  1138466\n",
      "residual delay:  1137696\n",
      "residual delay:  1137552\n",
      "residual delay:  1137531\n",
      "residual delay:  1137525\n",
      "residual delay:  1137525\n"
     ]
    }
   ],
   "source": [
    "delayrm = rm_random(data, delay)\n",
    "actualrm = rm_random(data, act)\n",
    "sprm = rm_random(data, sps)"
   ]
  },
  {
   "cell_type": "code",
   "execution_count": 264,
   "id": "c32d5210",
   "metadata": {},
   "outputs": [],
   "source": [
    "israndom = match_actuals(data, act)"
   ]
  },
  {
   "cell_type": "code",
   "execution_count": 699,
   "id": "cba1d188",
   "metadata": {},
   "outputs": [],
   "source": [
    "issort = np.arange(0, data.shape[0])[~israndom]\n",
    "rsort = np.arange(0, data.shape[0])[israndom]"
   ]
  },
  {
   "cell_type": "code",
   "execution_count": 695,
   "id": "83a70755",
   "metadata": {},
   "outputs": [
    {
     "data": {
      "text/plain": [
       "array([       0,        1,        7, ..., 17614644, 17614645, 17614646],\n",
       "      shape=(10154681,))"
      ]
     },
     "execution_count": 695,
     "metadata": {},
     "output_type": "execute_result"
    }
   ],
   "source": [
    "actualsort"
   ]
  },
  {
   "cell_type": "code",
   "execution_count": 701,
   "id": "22ce9ac2",
   "metadata": {},
   "outputs": [
    {
     "data": {
      "text/plain": [
       "(0.9999999015232482, 0.9999998659511317)"
      ]
     },
     "execution_count": 701,
     "metadata": {},
     "output_type": "execute_result"
    }
   ],
   "source": [
    "actualsort = np.sort(actualrm)\n",
    "trues_kept = np.intersect1d(actualsort, issort).shape[0] / issort.shape[0]\n",
    "randoms_caught = np.setdiff1d(rsort, actualsort).shape[0] / rsort.shape[0]\n",
    "trues_kept, randoms_caught"
   ]
  },
  {
   "cell_type": "code",
   "execution_count": 702,
   "id": "e89222d9",
   "metadata": {},
   "outputs": [
    {
     "data": {
      "text/plain": [
       "(0.7519478947689248, 0.5807404484149123)"
      ]
     },
     "execution_count": 702,
     "metadata": {},
     "output_type": "execute_result"
    }
   ],
   "source": [
    "delsort = np.sort(delayrm)\n",
    "trues_kept = np.intersect1d(delsort, issort).shape[0] / issort.shape[0]\n",
    "randoms_caught = np.setdiff1d(rsort, delsort).shape[0] / rsort.shape[0]\n",
    "trues_kept, randoms_caught"
   ]
  },
  {
   "cell_type": "code",
   "execution_count": 703,
   "id": "89380f63",
   "metadata": {},
   "outputs": [
    {
     "data": {
      "text/plain": [
       "(0.7952587580052982, 0.5443030169306402)"
      ]
     },
     "execution_count": 703,
     "metadata": {},
     "output_type": "execute_result"
    }
   ],
   "source": [
    "spsort = np.sort(sprm)\n",
    "trues_kept = np.intersect1d(spsort, issort).shape[0] / issort.shape[0]\n",
    "randoms_caught = np.setdiff1d(rsort, spsort).shape[0] / rsort.shape[0]\n",
    "trues_kept, randoms_caught"
   ]
  },
  {
   "cell_type": "code",
   "execution_count": 686,
   "id": "11d204ce",
   "metadata": {},
   "outputs": [],
   "source": [
    "delay_tofs = tofs[delayrm]\n",
    "actual_tofs = tofs[actualrm]\n",
    "sp_tofs = tofs[sprm]"
   ]
  },
  {
   "cell_type": "code",
   "execution_count": 687,
   "id": "05f265ea",
   "metadata": {},
   "outputs": [
    {
     "data": {
      "image/png": "[encoded data removed]",
      "text/plain": [
       "<Figure size 1500x500 with 3 Axes>"
      ]
     },
     "metadata": {},
     "output_type": "display_data"
    }
   ],
   "source": [
    "fig, (reg, dw, ac) = plt.subplots(1, 3, figsize=(15, 5))\n",
    "reg.hist(tofs, bins=100, alpha=0.4, color='#D60270')\n",
    "reg.hist(deltofs, bins=100, alpha=0.4, color='#0038A8')\n",
    "reg.hist(acttofs, bins=100, alpha=0.4, color='green')\n",
    "reg.set_xlabel('Time of Flight (mm)')\n",
    "reg.set_ylabel('Counts')\n",
    "reg.set_title('TOF Histogram')\n",
    "reg.grid()\n",
    "\n",
    "dw.hist(delay_tofs, bins=100, alpha=0.4, color='#D60270')\n",
    "dw.hist(deltofs, bins=100, alpha=0.4, color='#0038A8')\n",
    "dw.set_xlabel('Time of Flight (mm)')\n",
    "dw.set_ylabel('Counts')\n",
    "dw.set_title('TOF Histogram')\n",
    "dw.grid()\n",
    "\n",
    "ac.hist(actual_tofs, bins=100, alpha=0.4, color='#D60270')\n",
    "ac.hist(acttofs, bins=100, alpha=0.4, color='#0038A8')\n",
    "ac.set_xlabel('Time of Flight (mm)')\n",
    "ac.set_ylabel('Counts')\n",
    "ac.set_title('TOF Histogram')\n",
    "ac.grid()\n",
    "\n",
    "plt.show()"
   ]
  },
  {
   "cell_type": "code",
   "execution_count": 688,
   "id": "598ed937",
   "metadata": {},
   "outputs": [
    {
     "data": {
      "image/png": "[encoded data removed]",
      "text/plain": [
       "<Figure size 1500x500 with 3 Axes>"
      ]
     },
     "metadata": {},
     "output_type": "display_data"
    }
   ],
   "source": [
    "fig, (reg, sp, ac) = plt.subplots(1, 3, figsize=(15, 5))\n",
    "reg.hist(tofs, bins=100, alpha=0.4, color='#D60270')\n",
    "reg.hist(sptofs, bins=100, alpha=0.4, color='#0038A8')\n",
    "reg.set_xlabel('Time of Flight (mm)')\n",
    "reg.set_ylabel('Counts')\n",
    "reg.set_title('TOF Histogram')\n",
    "reg.grid()\n",
    "\n",
    "sp.hist(sp_tofs, bins=100, alpha=0.4, color='#D60270')\n",
    "sp.hist(sptofs, bins=100, alpha=0.4, color='#0038A8')\n",
    "sp.set_xlabel('Time of Flight (mm)')\n",
    "sp.set_ylabel('Counts')\n",
    "sp.set_title('TOF Histogram')\n",
    "sp.grid()\n",
    "\n",
    "ac.hist(actual_tofs, bins=100, alpha=0.4, color='#D60270')\n",
    "ac.hist(acttofs, bins=100, alpha=0.4, color='#0038A8')\n",
    "ac.set_xlabel('Time of Flight (mm)')\n",
    "ac.set_ylabel('Counts')\n",
    "ac.set_title('TOF Histogram')\n",
    "ac.grid()\n",
    "\n",
    "plt.show()"
   ]
  },
  {
   "cell_type": "code",
   "execution_count": null,
   "id": "67cb429d",
   "metadata": {},
   "outputs": [],
   "source": []
  }
 ],
 "metadata": {
  "kernelspec": {
   "display_name": "pet (3.12.11)",
   "language": "python",
   "name": "python3"
  },
  "language_info": {
   "codemirror_mode": {
    "name": "ipython",
    "version": 3
   },
   "file_extension": ".py",
   "mimetype": "text/x-python",
   "name": "python",
   "nbconvert_exporter": "python",
   "pygments_lexer": "ipython3",
   "version": "3.12.11"
  }
 },
 "nbformat": 4,
 "nbformat_minor": 5
}
