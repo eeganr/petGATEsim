{
 "cells": [
  {
   "cell_type": "code",
   "execution_count": 6,
   "id": "b6606902",
   "metadata": {},
   "outputs": [
    {
     "name": "stderr",
     "output_type": "stream",
     "text": [
      "UsageError: Line magic function `%pip3` not found.\n"
     ]
    }
   ],
   "source": [
    "%pip install numpy pandas scipy uproot"
   ]
  },
  {
   "cell_type": "code",
   "execution_count": 1,
   "id": "60f535ca",
   "metadata": {},
   "outputs": [],
   "source": [
    "import numpy as np\n",
    "import pandas as pd\n",
    "from scipy.optimize import root_scalar\n",
    "# import struct\n",
    "import uproot\n",
    "import paramiko\n",
    "from getpass import getpass\n",
    "\n",
    "# === CONFIG ===\n",
    "INFILE = \"/scratch/users/eeganr/june23output/output2.root\"\n",
    "NUM_VOLIDS = 6\n",
    "cont_magnitude = 1e-5\n",
    "num_TOF_bins = 9\n",
    "TOF_bin_width = 29\n",
    "sigma_TOF = 60\n",
    "num_iterations = 2\n",
    "num_subsets = 8\n",
    "\n",
    "total_time = 1 # total sim time (s)\n",
    "CYCLE = 1.6e-9  # clock cycle (s)\n",
    "TAU = 3 * CYCLE  # coincidence window (s)\n",
    "DELAY = 10 * CYCLE  # delay for DW estimate (s)\n",
    "num_detectors = 48 * 48"
   ]
  },
  {
   "cell_type": "code",
   "execution_count": 2,
   "id": "4ca2aa71",
   "metadata": {},
   "outputs": [
    {
     "name": "stdout",
     "output_type": "stream",
     "text": [
      "Duo two-factor login for eeganr\n",
      "\n",
      "Enter a passcode or select one of the following options:\n",
      "\n",
      " 1. Duo Push to XXX-XXX-7276\n",
      " 2. Phone call to XXX-XXX-7276\n",
      " 3. SMS passcodes to XXX-XXX-7276\n",
      "\n",
      "Passcode or option (1-3): "
     ]
    }
   ],
   "source": [
    "ssh = paramiko.SSHClient()\n",
    "ssh.set_missing_host_key_policy(paramiko.AutoAddPolicy())\n",
    "ssh.connect('login.sherlock.stanford.edu', 22, 'eeganr', getpass(\"Password: \"))\n",
    "key_auth = str(ssh.get_transport())\n",
    "if 'awaiting auth' in key_auth:\n",
    "    (ssh.get_transport()).auth_interactive_dumb('eeganr')"
   ]
  },
  {
   "cell_type": "code",
   "execution_count": 3,
   "id": "2f05f415",
   "metadata": {},
   "outputs": [],
   "source": [
    "sftp_client = ssh.open_sftp()\n",
    "remote_file = sftp_client.open(INFILE)\n",
    "remote_file.prefetch()"
   ]
  },
  {
   "cell_type": "code",
   "execution_count": 4,
   "id": "bdd46977",
   "metadata": {},
   "outputs": [],
   "source": [
    "# Read in data from ROOT files\n",
    "\n",
    "def get_all_vals(file, name):\n",
    "    num = max([int(i.split(';')[1]) for i in file.keys() if i.split(';')[0] == name])\n",
    "    return file[f'{name};{num}']\n",
    "\n",
    "with uproot.open(remote_file) as file:\n",
    "    singles_tree = get_all_vals(file, 'Singles')\n",
    "    coincidence_tree = get_all_vals(file, 'Coincidences')\n",
    "\n",
    "    singles = pd.DataFrame({\n",
    "        \"time\": singles_tree[\"time\"].array(library=\"np\"),\n",
    "        \"detector\": singles_tree[\"crystalID\"].array(library=\"np\"),\n",
    "        \"source\": list(map(tuple, np.stack((singles_tree[\"sourcePosX\"].array(library=\"np\"), \n",
    "                            singles_tree[\"sourcePosY\"].array(library=\"np\"), \n",
    "                            singles_tree[\"sourcePosZ\"].array(library=\"np\")), axis=-1))),\n",
    "        \"energy\": singles_tree[\"energy\"].array(library=\"np\"),\n",
    "    })\n",
    "    coincidences = pd.DataFrame({\n",
    "        \"time1\": coincidence_tree[\"time1\"].array(library=\"np\"),\n",
    "        \"time2\": coincidence_tree[\"time2\"].array(library=\"np\"),\n",
    "        \"detector1\": coincidence_tree[\"crystalID1\"].array(library=\"np\"),\n",
    "        \"detector2\": coincidence_tree[\"crystalID2\"].array(library=\"np\"),\n",
    "        \"source1\": list(map(tuple, np.stack((coincidence_tree[\"sourcePosX1\"].array(library=\"np\"), \n",
    "                            coincidence_tree[\"sourcePosY1\"].array(library=\"np\"), \n",
    "                            coincidence_tree[\"sourcePosZ1\"].array(library=\"np\")), axis=-1))),\n",
    "        \"source2\": list(map(tuple, np.stack((coincidence_tree[\"sourcePosX2\"].array(library=\"np\"), \n",
    "                            coincidence_tree[\"sourcePosY2\"].array(library=\"np\"), \n",
    "                            coincidence_tree[\"sourcePosZ2\"].array(library=\"np\")), axis=-1))),\n",
    "    })\n",
    "    coincidences['true'] = coincidences['source1'] == coincidences['source2']"
   ]
  },
  {
   "cell_type": "code",
   "execution_count": 5,
   "id": "c1a9ae26",
   "metadata": {},
   "outputs": [],
   "source": [
    "# singles = singles[singles['energy'] > 0.450].reset_index()\n",
    "# singles = singles[singles['energy'] < 0.750].reset_index()"
   ]
  },
  {
   "cell_type": "code",
   "execution_count": 6,
   "id": "82c9e15d",
   "metadata": {},
   "outputs": [],
   "source": [
    "coins = []\n",
    "window_start = 0\n",
    "possible_coincidence = []\n",
    "for i in range(0, len(singles['time']) - 1):\n",
    "    if singles['time'][i] - window_start >= TAU:\n",
    "        # process any previous coincidences\n",
    "        if len(possible_coincidence) >= 2:\n",
    "            # If there are at least 2 singles in the window, we have a possible coincidence\n",
    "            if len(possible_coincidence) > 2:\n",
    "                energies = [singles['energy'][j] for j in possible_coincidence]\n",
    "                energies = dict(zip(energies, possible_coincidence))\n",
    "                true_coinc = (energies.pop(max(energies)), energies.pop(max(energies)))\n",
    "                # Take just the two highest energies\n",
    "                # takeWinnerOfGoods policy\n",
    "            else:\n",
    "                true_coinc = tuple(possible_coincidence)\n",
    "            coins.append(true_coinc)\n",
    "\n",
    "        # Reset the window\n",
    "        possible_coincidence = [i]\n",
    "        window_start = singles['time'][i]\n",
    "    elif singles['time'][i] - window_start < TAU:\n",
    "        possible_coincidence.append(i)  # Add to coincidence list\n",
    "coinci = pd.DataFrame()\n",
    "coinci['time1'] = [singles['time'][i[0]] for i in coins]\n",
    "coinci['time2'] = [singles['time'][i[1]] for i in coins]\n",
    "coinci['detector1'] = [singles['detector'][i[0]] for i in coins]\n",
    "coinci['detector2'] = [singles['detector'][i[1]] for i in coins]\n",
    "coinci['source1'] = [singles['source'][i[0]] for i in coins]\n",
    "coinci['source2'] = [singles['source'][i[1]] for i in coins]\n",
    "coinci['true'] = coinci['source1'] == coinci['source2']"
   ]
  },
  {
   "cell_type": "code",
   "execution_count": 7,
   "id": "1199b56a",
   "metadata": {},
   "outputs": [
    {
     "data": {
      "text/plain": [
       "181782"
      ]
     },
     "execution_count": 7,
     "metadata": {},
     "output_type": "execute_result"
    }
   ],
   "source": [
    "len(coinci)"
   ]
  },
  {
   "cell_type": "code",
   "execution_count": 8,
   "id": "12c54d88",
   "metadata": {},
   "outputs": [],
   "source": [
    "coin_store = coincidences.copy()"
   ]
  },
  {
   "cell_type": "code",
   "execution_count": 9,
   "id": "532fb67a",
   "metadata": {},
   "outputs": [],
   "source": [
    "coincidences = coinci.copy()"
   ]
  },
  {
   "cell_type": "code",
   "execution_count": 10,
   "id": "b3a3a9c2",
   "metadata": {},
   "outputs": [],
   "source": [
    "remote_file.close()"
   ]
  },
  {
   "cell_type": "code",
   "execution_count": 11,
   "id": "3564a68d",
   "metadata": {},
   "outputs": [],
   "source": [
    "# System-Wide Equation Constants\n",
    "\n",
    "S = len(singles) / total_time # Rate of singles measured by scanner as a whole\n",
    "P = 2 * len(coincidences) / total_time # Twice the prompts rate\n",
    "\n",
    "# Roots of this function are the lambda (L) values.\n",
    "def lambda_eq(L):\n",
    "    return 2 * TAU * L * L - L + S - P * np.exp((L + S)*TAU)\n",
    "\n",
    "L = root_scalar(lambda_eq, x0=0)\n",
    "if not L.converged:\n",
    "    raise RuntimeError(\"Failed to converge on lambda.\")\n",
    "L = L.root\n",
    "\n",
    "det1_counts = coincidences['detector1'].value_counts().to_dict() # det1 coincidences involved\n",
    "det2_counts = coincidences['detector2'].value_counts().to_dict() # det2 coincidences involved\n",
    "\n",
    "prompts = pd.DataFrame({'detector': list(range(num_detectors))})\n",
    "prompts['prompts'] = prompts['detector'].map(lambda x: det1_counts.get(x, 0) + det2_counts.get(x, 0))\n",
    "prompt_count = prompts.set_index('detector')['prompts'].to_dict()\n",
    "singles_counts = singles['detector'].value_counts().to_dict()"
   ]
  },
  {
   "cell_type": "code",
   "execution_count": null,
   "id": "85375cbf",
   "metadata": {},
   "outputs": [],
   "source": [
    "# Returns the randoms rate from a pair of detectors with crystalIDs i and j\n",
    "def randomsrate(i, j):\n",
    "    P_i = prompt_count.get(i, 0) / total_time\n",
    "    P_j = prompt_count.get(j, 0) / total_time\n",
    "    S_i = singles_counts.get(i, 0) / total_time\n",
    "    S_j = singles_counts.get(j, 0) / total_time\n",
    "    coeff = (2 * TAU * np.exp(-(L + S)*TAU))/((1 - 2 * L * TAU)**2)\n",
    "    i_term = S_i - np.exp((L + S)*TAU) * P_i\n",
    "    j_term = S_j - np.exp((L + S)*TAU) * P_j\n",
    "    return coeff * i_term * j_term"
   ]
  },
  {
   "cell_type": "code",
   "execution_count": 13,
   "id": "d3412fdf",
   "metadata": {},
   "outputs": [
    {
     "name": "stdout",
     "output_type": "stream",
     "text": [
      "32627.748979449585\n"
     ]
    }
   ],
   "source": [
    "sp_estimate = 0\n",
    "for i in range(num_detectors):\n",
    "    for j in range(i, num_detectors):\n",
    "        sp_estimate += randomsrate(i, j)\n",
    "\n",
    "print(sp_estimate)"
   ]
  },
  {
   "cell_type": "code",
   "execution_count": 83,
   "id": "8259ac53",
   "metadata": {},
   "outputs": [],
   "source": [
    "sp_estimate = sp_estimate * total_time"
   ]
  },
  {
   "cell_type": "code",
   "execution_count": 84,
   "id": "46b0b41e",
   "metadata": {},
   "outputs": [
    {
     "name": "stdout",
     "output_type": "stream",
     "text": [
      "32627.748979449585\n"
     ]
    }
   ],
   "source": [
    "print(sp_estimate)"
   ]
  },
  {
   "cell_type": "code",
   "execution_count": 85,
   "id": "cd3af3b9",
   "metadata": {},
   "outputs": [],
   "source": [
    "actual = coincidences[coincidences['true'] == False]"
   ]
  },
  {
   "cell_type": "code",
   "execution_count": 86,
   "id": "8ea7cacb",
   "metadata": {},
   "outputs": [
    {
     "data": {
      "text/plain": [
       "35444"
      ]
     },
     "execution_count": 86,
     "metadata": {},
     "output_type": "execute_result"
    }
   ],
   "source": [
    "len(actual)"
   ]
  },
  {
   "cell_type": "code",
   "execution_count": 87,
   "id": "a107c955",
   "metadata": {},
   "outputs": [
    {
     "name": "stdout",
     "output_type": "stream",
     "text": [
      "41606\n"
     ]
    }
   ],
   "source": [
    "dw_estimate = 0\n",
    "for t in singles['time']:\n",
    "    dw_estimate += np.searchsorted(singles['time'], t + DELAY + TAU) - np.searchsorted(singles['time'], t + DELAY)\n",
    "print(dw_estimate)"
   ]
  },
  {
   "cell_type": "code",
   "execution_count": 88,
   "id": "8b30c75d",
   "metadata": {},
   "outputs": [],
   "source": [
    "sr_estimate = 0\n",
    "for i in range(num_detectors):\n",
    "    for j in range(i, num_detectors):\n",
    "        sr_estimate += 2 * TAU * singles_counts.get(i, 0) / total_time * singles_counts.get(j, 0) / total_time"
   ]
  },
  {
   "cell_type": "code",
   "execution_count": 89,
   "id": "6ebdb762",
   "metadata": {},
   "outputs": [
    {
     "name": "stdout",
     "output_type": "stream",
     "text": [
      "41741.50412241712\n"
     ]
    }
   ],
   "source": [
    "print(sr_estimate * total_time)"
   ]
  },
  {
   "cell_type": "code",
   "execution_count": null,
   "id": "772a518f",
   "metadata": {},
   "outputs": [],
   "source": []
  }
 ],
 "metadata": {
  "kernelspec": {
   "display_name": "pet",
   "language": "python",
   "name": "python3"
  },
  "language_info": {
   "codemirror_mode": {
    "name": "ipython",
    "version": 3
   },
   "file_extension": ".py",
   "mimetype": "text/x-python",
   "name": "python",
   "nbconvert_exporter": "python",
   "pygments_lexer": "ipython3",
   "version": "3.11.11"
  }
 },
 "nbformat": 4,
 "nbformat_minor": 5
}
