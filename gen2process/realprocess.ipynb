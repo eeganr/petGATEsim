{
 "cells": [
  {
   "cell_type": "code",
   "execution_count": 2,
   "id": "146a5486",
   "metadata": {},
   "outputs": [],
   "source": [
    "import pandas as pd\n",
    "import numpy as np\n",
    "import matplotlib.pyplot as plt\n",
    "from scipy.optimize import curve_fit, root_scalar\n",
    "from scipy.special import factorial\n",
    "import scipy.stats as stats\n",
    "import paramiko\n",
    "from getpass import getpass\n",
    "from array import array\n",
    "import pickle\n",
    "%matplotlib inline\n",
    "import os"
   ]
  },
  {
   "cell_type": "code",
   "execution_count": 3,
   "id": "b804b0d5",
   "metadata": {},
   "outputs": [],
   "source": [
    "class Singles:\n",
    "    def __init__(self, eventBytes,compact = True, keephighestenergy = False, delay = False, savetxt = False):\n",
    "    \n",
    "        self.frame = self.GetTimeFrame(eventBytes,compact)\n",
    "        self.channelid = self.GetChannelID(eventBytes)\n",
    "        self.submoduleid = self.GetSubmoduleID(eventBytes)\n",
    "        self.moduleid = self.GetModuleID(eventBytes,compact)\n",
    "        self.valid = self.IsValid(eventBytes)\n",
    "        eventBytes = eventBytes[self.valid, ...]\n",
    "        self.frame = self.frame[self.valid,...]\n",
    "        self.keep = self.valid[self.valid, ...]\n",
    "        self.size = self.keep.size\n",
    "        self.valid = self.valid[self.valid, ...]\n",
    "        self.coarse = self.GetCoarseTime(eventBytes)\n",
    "        self.moduleid = self.GetModuleID(eventBytes,compact)\n",
    "        self.subframe = self.Getsubframe(eventBytes,compact)\n",
    "        self.submoduleid = self.GetSubmoduleID(eventBytes)\n",
    "        self.halfchipid = self.GetHalfChipID(eventBytes)\n",
    "        self.channelid = self.GetChannelID(eventBytes)\n",
    "        self.energy = self.GetEnergy(eventBytes)\n",
    "        self.crystalID = self.GetCrystalId()\n",
    "        self.fine = self.GetFineTime(eventBytes)\n",
    "        self.moduleid = self.GetModuleID(eventBytes,compact)\n",
    "        self.index = np.linspace(0, self.size - 1, self.size, dtype = np.int64)\n",
    "        if keephighestenergy:\n",
    "            print(self.coarse[:20])\n",
    "            print(self.energy[:20])\n",
    "            argsort = np.lexsort((self.energy*(-1), self.coarse, self.frame))\n",
    "            eventBytes = eventBytes[argsort, ...]\n",
    "            self.frame = self.frame[argsort,...]\n",
    "            self.coarse = self.GetCoarseTime(eventBytes)\n",
    "            \n",
    "            \n",
    "            print(self.coarse[:20])\n",
    "            print(self.energy[:20])\n",
    "            \n",
    "            valid = (np.diff(self.coarse) > 10)\n",
    "            valid = np.insert(valid, 0, True)\n",
    "            eventBytes = eventBytes[valid, ...]\n",
    "            self.frame = self.frame[valid,...]\n",
    "            \n",
    "            self.channelid = self.GetChannelID(eventBytes)\n",
    "            self.submoduleid = self.GetSubmoduleID(eventBytes)\n",
    "            self.moduleid = self.GetModuleID(eventBytes,compact)\n",
    "            self.valid = self.IsValid(eventBytes)\n",
    "            eventBytes = eventBytes[self.valid, ...]\n",
    "            self.keep = self.valid[self.valid, ...]\n",
    "            self.size = self.keep.size\n",
    "            self.frame = self.frame[self.valid,...]\n",
    "            self.moduleid = self.GetModuleID(eventBytes,compact)\n",
    "            self.subframe = self.Getsubframe(eventBytes,compact)\n",
    "            self.submoduleid = self.GetSubmoduleID(eventBytes)\n",
    "            self.halfchipid = self.GetHalfChipID(eventBytes)\n",
    "            self.channelid = self.GetChannelID(eventBytes)\n",
    "            self.energy = self.GetEnergy(eventBytes)\n",
    "            self.crystalID = self.GetCrystalId()\n",
    "            self.fine = self.GetFineTime(eventBytes)\n",
    "            self.fine_ps = self.GetFinepsTime(eventBytes)\n",
    "            self.coarse = self.GetCoarseTime(eventBytes)\n",
    "            self.index = np.linspace(0, self.size - 1, self.size, dtype = np.int64)\n",
    "            #print(self.frame)\n",
    "        self.moduleid = self.GetModuleID(eventBytes,compact)\n",
    "        self.index = np.linspace(0, self.size - 1, self.size, dtype = np.int64)\n",
    "        if savetxt:\n",
    "            with open('data.txt', 'w') as f:\n",
    "                for i in range(int(self.index.shape[0]/2)):\n",
    "                    f.write(\"{:08x}\".format(self.coarse[i*2+1]) +\" \"+  \"{:08x}\".format(self.coarse[i*2]) +\" \"+\"{:08x}\".format(self.index[i*2+1]) +\" \"+ \"{:08x}\".format(self.index[i*2]))\n",
    "                    f.write(\"\\n\")\n",
    "            f.close()\n",
    "    def IsValid(self, _eventBytes):\n",
    "        hit_Master_testHit = _eventBytes[:, 2] & 0b11100000\n",
    "        bad = _eventBytes[:, 4] & 0b10000000\n",
    "        valid1 = (hit_Master_testHit == 192)\n",
    "        valid2 = (self.moduleid < 16)\n",
    "        valid3 = (self.channelid < 18)\n",
    "        valid4 = (self.submoduleid < 6)\n",
    "        valid5 = (bad == 128)\n",
    "        #valid_tmp = (self.moduleid == 0) | (self.moduleid == 8)\n",
    "        #return valid2&valid4\n",
    "        return valid1 & valid2 & valid3 & valid4 & valid5\n",
    "    def GetChannelID(self, _eventBytes):\n",
    "        channelID = _eventBytes[:, 2] & 0b00011111\n",
    "        #return _eventBytes[:, 2]\n",
    "        return channelID\n",
    "    def GetEnergy(self, _eventBytes):\n",
    "        bit8 = np.uint16(_eventBytes[:, 5] & 0b10000000) << 1\n",
    "        bit7_0 = _eventBytes[:, 7]\n",
    "        #return bit7_0\n",
    "        return bit8 + bit7_0\n",
    "    def GetModuleID(self, _eventBytes,compact):\n",
    "        if compact:\n",
    "            ModuleID = _eventBytes[:, 1] & 0b00001111\n",
    "        else:\n",
    "            ModuleID = (_eventBytes[:, 0] & 0b11000000) >> 6\n",
    "        return ModuleID\n",
    "    def GetSubmoduleID(self, _eventBytes):\n",
    "        submoduleID = (_eventBytes[:, 0] & 0b00111000) >> 3\n",
    "        return submoduleID\n",
    "    def GetHalfChipID(self, _eventBytes):\n",
    "        halfChipID = _eventBytes[:, 0] & 0b00000111\n",
    "        return halfChipID\n",
    "    def Getsubframe(self, _eventBytes, compact):\n",
    "        if not compact:\n",
    "            subframe = _eventBytes[:, 1]\n",
    "        else:\n",
    "            subframe = (_eventBytes[:, 1] & 0b11110000) >> 4\n",
    "        return subframe   \n",
    "    def GetTimeFrame(self, _eventBytes, compact):\n",
    "        frame = (np.uint32(_eventBytes[:, 4]) << 8*0) + (np.uint32(_eventBytes[:, 5]) << 8*1) + (np.uint32(_eventBytes[:, 6]) << 8*2) + np.uint32(_eventBytes[:, 7] << 8*3)\n",
    "        frame[_eventBytes[:,0] != 0xfa] = 0\n",
    "        pos = np.where(frame > 0)[0]\n",
    "        prev_pos = pos[0]\n",
    "        for i in pos[1:]:\n",
    "            frame[prev_pos:i] = frame[prev_pos]\n",
    "            prev_pos = i\n",
    "        frame[pos[-1]:] = frame[pos[-1]]\n",
    "        return frame\n",
    "    def GetFineTime(self, _eventBytes):\n",
    "        finepsTime_9_8 = np.uint16(_eventBytes[:, 4] & 0b01100000) << 3\n",
    "        finepsTime_7_0 = _eventBytes[:, 3]\n",
    "        return finepsTime_9_8 + finepsTime_7_0\n",
    "    def GetCoarseTime(self, _eventBytes):\n",
    "        coarseBit_14_8 = np.uint16(_eventBytes[:, 5] & 0b01111111) << 8\n",
    "        coarseBit_7_0 = _eventBytes[:, 6]\n",
    "        return coarseBit_14_8 + coarseBit_7_0\n",
    "    def GetCrystalId(self):\n",
    "        # get (flatten) crystal ID from (module ID * 6 * 8 * 18 + submoduleID *\n",
    "        # 8 * 18 + HalfChipID * 18 + channelID):\n",
    "        return np.uint16(self.moduleid) * 864 + np.uint16(self.submoduleid) * 144 + np.uint16(self.halfchipid) * 18 + self.channelid\n",
    "    def GetKeepEvents(self, keep_index):\n",
    "        self.size = len(keep_index)\n",
    "        self.keep = self.keep[keep_index]\n",
    "        self.energy = self.energy[keep_index]\n",
    "        self.moduleid = self.moduleid[keep_index]\n",
    "        self.submoduleid = self.submoduleid[keep_index]\n",
    "        self.halfchipid = self.halfchipid[keep_index]\n",
    "        self.channelid = self.channelid[keep_index]\n",
    "        self.crystalID = self.crystalID[keep_index]\n",
    "        self.frame = self.frame[keep_index]\n",
    "        self.fine = self.fine[keep_index]\n",
    "        self.coarse = self.coarse[keep_index]\n",
    "        self.index = keep_index\n",
    "        return self\n",
    "    def AddKeepEvents(self, event_keep):\n",
    "        if event_keep == []:\n",
    "            return\n",
    "        self.size = self.size + event_keep.size\n",
    "        self.keep = np.concatenate((self.keep, event_keep.keep))\n",
    "        self.energy = np.concatenate((self.energy, event_keep.energy))\n",
    "        self.moduleid = np.concatenate((self.moduleid, event_keep.moduleid))\n",
    "        self.submoduleid = np.concatenate((self.submoduleid, event_keep.submoduleid))\n",
    "        self.halfchipid = np.concatenate((self.halfchipid, event_keep.halfchipid))\n",
    "        self.channelid = np.concatenate((self.channelid, event_keep.channelid))\n",
    "        self.crystalID = np.concatenate((self.crystalID, event_keep.crystalID))\n",
    "        self.frame = np.concatenate((self.frame, event_keep.frame))\n",
    "        self.fine = np.concatenate((self.fine, event_keep.fine))\n",
    "        self.coarse = np.concatenate((self.coarse, event_keep.coarse))\n",
    "        self.index = np.linspace(0, self.size - 1, self.size, dtype = np.int64)\n",
    "        return self"
   ]
  },
  {
   "cell_type": "code",
   "execution_count": null,
   "id": "7c2ce1ff",
   "metadata": {},
   "outputs": [],
   "source": []
  },
  {
   "cell_type": "code",
   "execution_count": 4,
   "id": "1a556440",
   "metadata": {},
   "outputs": [],
   "source": [
    "CYCLE = 1.6e-9  # clock cycle (s)\n",
    "TAU = 3 * CYCLE  # coincidence window (s)\n",
    "DELAY = 10 * CYCLE  # delay for DW estimate (s)\n",
    "DETECTORS = 48 * 48\n",
    "FILE_RANGE = range(1, 100 + 1)"
   ]
  },
  {
   "cell_type": "code",
   "execution_count": 5,
   "id": "cce9aea6",
   "metadata": {},
   "outputs": [],
   "source": [
    "def load_file(n):\n",
    "    with open(f'C:/scratch/singles_{n}.pkl', 'rb') as f:\n",
    "        results = pickle.load(f)\n",
    "    return results"
   ]
  },
  {
   "cell_type": "code",
   "execution_count": 6,
   "id": "cc1bebc9",
   "metadata": {},
   "outputs": [],
   "source": [
    "results = load_file(1)\n",
    "results2 = load_file(15)"
   ]
  },
  {
   "cell_type": "code",
   "execution_count": 8,
   "id": "ce180fe9",
   "metadata": {},
   "outputs": [
    {
     "data": {
      "text/plain": [
       "16"
      ]
     },
     "execution_count": 8,
     "metadata": {},
     "output_type": "execute_result"
    }
   ],
   "source": [
    "len(np.unique(results.moduleid))"
   ]
  },
  {
   "cell_type": "code",
   "execution_count": 9,
   "id": "b8f32eb4",
   "metadata": {},
   "outputs": [
    {
     "data": {
      "text/plain": [
       "6"
      ]
     },
     "execution_count": 9,
     "metadata": {},
     "output_type": "execute_result"
    }
   ],
   "source": [
    "len(np.unique(results.submoduleid))"
   ]
  },
  {
   "cell_type": "code",
   "execution_count": 7,
   "id": "be3cfd22",
   "metadata": {},
   "outputs": [],
   "source": [
    "singles = pd.DataFrame()"
   ]
  },
  {
   "cell_type": "code",
   "execution_count": 8,
   "id": "e39fad3b",
   "metadata": {},
   "outputs": [],
   "source": [
    "singles['time'] = results.coarse * 1.6e-9 + results.fine * 50e-12\n",
    "singles['detector'] = results.crystalID\n",
    "singles['energy'] = results.energy"
   ]
  },
  {
   "cell_type": "code",
   "execution_count": 9,
   "id": "78cc3ded",
   "metadata": {},
   "outputs": [],
   "source": [
    "times = np.array(singles['time'])"
   ]
  },
  {
   "cell_type": "code",
   "execution_count": 9,
   "id": "2255a6a0",
   "metadata": {},
   "outputs": [],
   "source": [
    "import ctypes"
   ]
  },
  {
   "cell_type": "code",
   "execution_count": null,
   "id": "6eec6cba",
   "metadata": {},
   "outputs": [],
   "source": [
    "with open('times.txt', 'w') as f:\n",
    "    f.writelines(list(singles.astype('string')['time']))"
   ]
  },
  {
   "cell_type": "code",
   "execution_count": 39,
   "id": "5b970109",
   "metadata": {},
   "outputs": [],
   "source": [
    "TIME = max(singles['time'])"
   ]
  },
  {
   "cell_type": "code",
   "execution_count": 46,
   "id": "58315cd2",
   "metadata": {},
   "outputs": [],
   "source": [
    "def bundle_coincidences(singles):\n",
    "    \"\"\"\n",
    "        Bundle singles into coincidences, returns a DataFrame with columns:\n",
    "        time1, time2, detector1, detector2, source1, source2, true\n",
    "        where true is True if the two singles are from the same source, (true coincidence)\n",
    "        False otherwise\n",
    "    \"\"\"\n",
    "    coins = []\n",
    "    window_start = 0\n",
    "    possible_coincidence = []\n",
    "    for i in range(0, len(singles['time']) - 1):\n",
    "        if i % 100000 == 0:\n",
    "            print(f\"Processing singles {i}/{len(singles['time']) - 1}\")\n",
    "        if singles['time'][i] - window_start >= TAU:\n",
    "            # process any previous coincidences\n",
    "            if len(possible_coincidence) >= 2:\n",
    "                # If there are at least 2 singles in the window, we have a possible coincidence\n",
    "                if len(possible_coincidence) > 2:\n",
    "                    energies = [singles['energy'][j] for j in possible_coincidence]\n",
    "                    energies = dict(zip(energies, possible_coincidence))\n",
    "                    true_coinc = (energies.pop(max(energies)), energies.pop(max(energies)))\n",
    "                    # Take just the two highest energies\n",
    "                    # takeWinnerOfGoods policy\n",
    "                else:\n",
    "                    true_coinc = tuple(possible_coincidence)\n",
    "                coins.append(true_coinc)\n",
    "\n",
    "            # Reset the window\n",
    "            possible_coincidence = [i]\n",
    "            window_start = singles['time'][i]\n",
    "        elif singles['time'][i] - window_start < TAU:\n",
    "            possible_coincidence.append(i)  # Add to coincidence list\n",
    "    coinci = pd.DataFrame()\n",
    "    coinci['time1'] = [singles['time'][i[0]] for i in coins]\n",
    "    coinci['time2'] = [singles['time'][i[1]] for i in coins]\n",
    "    coinci['detector1'] = [singles['detector'][i[0]] for i in coins]\n",
    "    coinci['detector2'] = [singles['detector'][i[1]] for i in coins]\n",
    "    # coinci['source1'] = [singles['source'][i[0]] for i in coins]\n",
    "    # coinci['source2'] = [singles['source'][i[1]] for i in coins]\n",
    "    # coinci['true'] = coinci['source1'] == coinci['source2']\n",
    "    return coinci\n",
    "\n",
    "\n",
    "def sp_counts(singles, coincidences):\n",
    "    \"\"\"\n",
    "        Calculate Singles-Prompts (SP) counts for singles and coincidences\n",
    "        Returns a tuple of two dicts: singles_count, prompts_count\n",
    "        singles_count is a dict of form {detectorID: count} for singles\n",
    "        prompts_count is a dict of form {detectorID: count} for prompts\n",
    "        where prompts are the sum of all coincidences involving a given detector\n",
    "    \"\"\"\n",
    "    # Calculate singles/prompts counts\n",
    "    det1_counts = coincidences['detector1'].value_counts().to_dict()  # det1 coincidences involved\n",
    "    det2_counts = coincidences['detector2'].value_counts().to_dict()  # det2 coincidences involved\n",
    "\n",
    "    # Prompts are the sum of all coincidences involving a given detector,\n",
    "    # regardless of first or second\n",
    "    # Every detector, regardless of presence, has a key\n",
    "    prompts = pd.DataFrame({'detector': list(range(DETECTORS))})\n",
    "    prompts['prompts'] = prompts['detector'].map(\n",
    "        lambda x: det1_counts.get(x, 0) +\n",
    "        det2_counts.get(x, 0)\n",
    "    )\n",
    "\n",
    "    # dicts of form {detectorID: count}\n",
    "    prompts_count = prompts.set_index('detector')['prompts'].to_dict()\n",
    "    singles_count = singles['detector'].value_counts().to_dict()\n",
    "\n",
    "    return singles_count, prompts_count\n",
    "\n",
    "\n",
    "def randomsrate(i, j, singles_count, prompts_count, L, S):\n",
    "    \"\"\"\n",
    "        Returns the Singles-Prompts (SP) randoms rate estimate from a pair\n",
    "        of detectors with crystalIDs i and j per Oliver & Rafecas\n",
    "    \"\"\"\n",
    "    # P_i and P_j are prompts rates for detectors i, j\n",
    "    P_i = prompts_count.get(i, 0) / TIME  # .get(i, 0) returns 0 if det i not in prompts_count\n",
    "    P_j = prompts_count.get(j, 0) / TIME\n",
    "    # S_i and S_j are singles rates for detectors i, j\n",
    "    S_i = singles_count.get(i, 0) / TIME\n",
    "    S_j = singles_count.get(j, 0) / TIME\n",
    "    # Coefficient for the randoms rate equation\n",
    "    coeff = (2 * TAU * np.exp(-(L + S)*TAU))/((1 - 2 * L * TAU)**2)\n",
    "    # Further terms in SP equation\n",
    "    i_term = S_i - np.exp((L + S)*TAU) * P_i\n",
    "    j_term = S_j - np.exp((L + S)*TAU) * P_j\n",
    "    return coeff * i_term * j_term\n",
    "\n",
    "\n",
    "def singles_prompts(singles_count, prompts_count, singles, coincidences):\n",
    "    \"\"\"\n",
    "        Calculate Singles-Prompts (SP) estimate of total randoms rate\n",
    "    \"\"\"\n",
    "\n",
    "    S = len(singles) / TIME  # Rate of singles measured by scanner as a whole\n",
    "    P = 2 * len(coincidences) / TIME  # Twice the prompts rate\n",
    "\n",
    "    # Roots of this function are the lambda (L) values needed for the SP estimate.\n",
    "    def lambda_eq(L):\n",
    "        return 2 * TAU * L * L - L + S - P * np.exp((L + S)*TAU)\n",
    "    L = root_scalar(lambda_eq, x0=0)\n",
    "    if not L.converged:\n",
    "        raise RuntimeError(\"Failed to converge on lambda.\")\n",
    "    L = L.root\n",
    "\n",
    "    # Calculate the Singles-Prompts rate estimate for the whole scanner\n",
    "    # summing over all pairs of detectors\n",
    "    sp_rate = 0\n",
    "    for i in range(DETECTORS):\n",
    "        for j in range(i, DETECTORS):\n",
    "            sp_rate += randomsrate(i, j, singles_count, prompts_count, L, S)\n",
    "    return sp_rate * TIME\n",
    "\n",
    "\n",
    "# Calculate delayed-window estimate of total randoms rate\n",
    "def delayed_window(singles):\n",
    "    dw_estimate = 0\n",
    "    for t in singles['time']:\n",
    "        dw_estimate += (\n",
    "            np.searchsorted(singles['time'], t + DELAY + TAU) -\n",
    "            np.searchsorted(singles['time'], t + DELAY)\n",
    "        )  # Num of singles in delayed window\n",
    "    return dw_estimate\n",
    "\n",
    "\n",
    "# Calculate singles-rate estimate of total randoms rate\n",
    "def singles_rate(singles_count):\n",
    "    sr_rate = 0\n",
    "    for i in range(DETECTORS):\n",
    "        for j in range(i, DETECTORS):\n",
    "            sr_rate += 2 * TAU * singles_count.get(i, 0) / TIME * singles_count.get(j, 0) / TIME\n",
    "    return sr_rate * TIME"
   ]
  },
  {
   "cell_type": "code",
   "execution_count": 47,
   "id": "d199dfd8",
   "metadata": {},
   "outputs": [
    {
     "name": "stdout",
     "output_type": "stream",
     "text": [
      "Processing singles 0/63790025\n",
      "Processing singles 100000/63790025\n",
      "Processing singles 200000/63790025\n",
      "Processing singles 300000/63790025\n",
      "Processing singles 400000/63790025\n",
      "Processing singles 500000/63790025\n",
      "Processing singles 600000/63790025\n",
      "Processing singles 700000/63790025\n",
      "Processing singles 800000/63790025\n",
      "Processing singles 900000/63790025\n",
      "Processing singles 1000000/63790025\n",
      "Processing singles 1100000/63790025\n",
      "Processing singles 1200000/63790025\n",
      "Processing singles 1300000/63790025\n",
      "Processing singles 1400000/63790025\n",
      "Processing singles 1500000/63790025\n",
      "Processing singles 1600000/63790025\n"
     ]
    },
    {
     "ename": "KeyboardInterrupt",
     "evalue": "",
     "output_type": "error",
     "traceback": [
      "\u001b[31m---------------------------------------------------------------------------\u001b[39m",
      "\u001b[31mKeyboardInterrupt\u001b[39m                         Traceback (most recent call last)",
      "\u001b[36mCell\u001b[39m\u001b[36m \u001b[39m\u001b[32mIn[47]\u001b[39m\u001b[32m, line 1\u001b[39m\n\u001b[32m----> \u001b[39m\u001b[32m1\u001b[39m coins = \u001b[43mbundle_coincidences\u001b[49m\u001b[43m(\u001b[49m\u001b[43msingles\u001b[49m\u001b[43m)\u001b[49m\n",
      "\u001b[36mCell\u001b[39m\u001b[36m \u001b[39m\u001b[32mIn[46]\u001b[39m\u001b[32m, line 14\u001b[39m, in \u001b[36mbundle_coincidences\u001b[39m\u001b[34m(singles)\u001b[39m\n\u001b[32m     12\u001b[39m \u001b[38;5;28;01mif\u001b[39;00m i % \u001b[32m100000\u001b[39m == \u001b[32m0\u001b[39m:\n\u001b[32m     13\u001b[39m     \u001b[38;5;28mprint\u001b[39m(\u001b[33mf\u001b[39m\u001b[33m\"\u001b[39m\u001b[33mProcessing singles \u001b[39m\u001b[38;5;132;01m{\u001b[39;00mi\u001b[38;5;132;01m}\u001b[39;00m\u001b[33m/\u001b[39m\u001b[38;5;132;01m{\u001b[39;00m\u001b[38;5;28mlen\u001b[39m(singles[\u001b[33m'\u001b[39m\u001b[33mtime\u001b[39m\u001b[33m'\u001b[39m])\u001b[38;5;250m \u001b[39m-\u001b[38;5;250m \u001b[39m\u001b[32m1\u001b[39m\u001b[38;5;132;01m}\u001b[39;00m\u001b[33m\"\u001b[39m)\n\u001b[32m---> \u001b[39m\u001b[32m14\u001b[39m \u001b[38;5;28;01mif\u001b[39;00m \u001b[43msingles\u001b[49m\u001b[43m[\u001b[49m\u001b[33;43m'\u001b[39;49m\u001b[33;43mtime\u001b[39;49m\u001b[33;43m'\u001b[39;49m\u001b[43m]\u001b[49m[i] - window_start >= TAU:\n\u001b[32m     15\u001b[39m     \u001b[38;5;66;03m# process any previous coincidences\u001b[39;00m\n\u001b[32m     16\u001b[39m     \u001b[38;5;28;01mif\u001b[39;00m \u001b[38;5;28mlen\u001b[39m(possible_coincidence) >= \u001b[32m2\u001b[39m:\n\u001b[32m     17\u001b[39m         \u001b[38;5;66;03m# If there are at least 2 singles in the window, we have a possible coincidence\u001b[39;00m\n\u001b[32m     18\u001b[39m         \u001b[38;5;28;01mif\u001b[39;00m \u001b[38;5;28mlen\u001b[39m(possible_coincidence) > \u001b[32m2\u001b[39m:\n",
      "\u001b[36mFile \u001b[39m\u001b[32mc:\\Users\\eegan\\miniconda3\\envs\\pet\\Lib\\site-packages\\pandas\\core\\frame.py:4075\u001b[39m, in \u001b[36mDataFrame.__getitem__\u001b[39m\u001b[34m(self, key)\u001b[39m\n\u001b[32m   4070\u001b[39m is_mi = \u001b[38;5;28misinstance\u001b[39m(\u001b[38;5;28mself\u001b[39m.columns, MultiIndex)\n\u001b[32m   4071\u001b[39m \u001b[38;5;66;03m# GH#45316 Return view if key is not duplicated\u001b[39;00m\n\u001b[32m   4072\u001b[39m \u001b[38;5;66;03m# Only use drop_duplicates with duplicates for performance\u001b[39;00m\n\u001b[32m   4073\u001b[39m \u001b[38;5;28;01mif\u001b[39;00m \u001b[38;5;129;01mnot\u001b[39;00m is_mi \u001b[38;5;129;01mand\u001b[39;00m (\n\u001b[32m   4074\u001b[39m     \u001b[38;5;28mself\u001b[39m.columns.is_unique\n\u001b[32m-> \u001b[39m\u001b[32m4075\u001b[39m     \u001b[38;5;129;01mand\u001b[39;00m \u001b[43mkey\u001b[49m\u001b[43m \u001b[49m\u001b[38;5;129;43;01min\u001b[39;49;00m\u001b[43m \u001b[49m\u001b[38;5;28;43mself\u001b[39;49m\u001b[43m.\u001b[49m\u001b[43mcolumns\u001b[49m\n\u001b[32m   4076\u001b[39m     \u001b[38;5;129;01mor\u001b[39;00m key \u001b[38;5;129;01min\u001b[39;00m \u001b[38;5;28mself\u001b[39m.columns.drop_duplicates(keep=\u001b[38;5;28;01mFalse\u001b[39;00m)\n\u001b[32m   4077\u001b[39m ):\n\u001b[32m   4078\u001b[39m     \u001b[38;5;28;01mreturn\u001b[39;00m \u001b[38;5;28mself\u001b[39m._get_item_cache(key)\n\u001b[32m   4080\u001b[39m \u001b[38;5;28;01melif\u001b[39;00m is_mi \u001b[38;5;129;01mand\u001b[39;00m \u001b[38;5;28mself\u001b[39m.columns.is_unique \u001b[38;5;129;01mand\u001b[39;00m key \u001b[38;5;129;01min\u001b[39;00m \u001b[38;5;28mself\u001b[39m.columns:\n",
      "\u001b[36mFile \u001b[39m\u001b[32mc:\\Users\\eegan\\miniconda3\\envs\\pet\\Lib\\site-packages\\pandas\\core\\indexes\\base.py:5323\u001b[39m, in \u001b[36mIndex.__contains__\u001b[39m\u001b[34m(self, key)\u001b[39m\n\u001b[32m   5318\u001b[39m \u001b[38;5;250m    \u001b[39m\u001b[33;03m\"\"\"\u001b[39;00m\n\u001b[32m   5319\u001b[39m \u001b[33;03m    Return a boolean if we need a qualified .info display.\u001b[39;00m\n\u001b[32m   5320\u001b[39m \u001b[33;03m    \"\"\"\u001b[39;00m\n\u001b[32m   5321\u001b[39m     \u001b[38;5;28;01mreturn\u001b[39;00m is_object_dtype(\u001b[38;5;28mself\u001b[39m.dtype)\n\u001b[32m-> \u001b[39m\u001b[32m5323\u001b[39m \u001b[38;5;28;01mdef\u001b[39;00m\u001b[38;5;250m \u001b[39m\u001b[34m__contains__\u001b[39m(\u001b[38;5;28mself\u001b[39m, key: Any) -> \u001b[38;5;28mbool\u001b[39m:\n\u001b[32m   5324\u001b[39m \u001b[38;5;250m    \u001b[39m\u001b[33;03m\"\"\"\u001b[39;00m\n\u001b[32m   5325\u001b[39m \u001b[33;03m    Return a boolean indicating whether the provided key is in the index.\u001b[39;00m\n\u001b[32m   5326\u001b[39m \n\u001b[32m   (...)\u001b[39m\u001b[32m   5356\u001b[39m \u001b[33;03m    False\u001b[39;00m\n\u001b[32m   5357\u001b[39m \u001b[33;03m    \"\"\"\u001b[39;00m\n\u001b[32m   5358\u001b[39m     \u001b[38;5;28mhash\u001b[39m(key)\n",
      "\u001b[31mKeyboardInterrupt\u001b[39m: "
     ]
    }
   ],
   "source": [
    "coins = bundle_coincidences(singles)"
   ]
  },
  {
   "cell_type": "code",
   "execution_count": 12,
   "id": "67ccca00",
   "metadata": {},
   "outputs": [
    {
     "data": {
      "text/plain": [
       "array([    0,     1,     2, ..., 13821, 13822, 13823], dtype=uint16)"
      ]
     },
     "execution_count": 12,
     "metadata": {},
     "output_type": "execute_result"
    }
   ],
   "source": [
    "np.unique(results.crystalID)"
   ]
  },
  {
   "cell_type": "code",
   "execution_count": null,
   "id": "fd0f5ebf",
   "metadata": {},
   "outputs": [],
   "source": []
  },
  {
   "cell_type": "code",
   "execution_count": null,
   "id": "5ba5a6fb",
   "metadata": {},
   "outputs": [],
   "source": [
    "singles_count, prompts_count = sp_counts(singles, coins)"
   ]
  },
  {
   "cell_type": "code",
   "execution_count": null,
   "id": "3937234c",
   "metadata": {},
   "outputs": [],
   "source": [
    "singles_prompts(singles_count, prompts_count, singles, coins)"
   ]
  },
  {
   "cell_type": "code",
   "execution_count": null,
   "id": "db94b7cd",
   "metadata": {},
   "outputs": [],
   "source": [
    "delayed_window(singles)"
   ]
  },
  {
   "cell_type": "code",
   "execution_count": null,
   "id": "e7e9bd1e",
   "metadata": {},
   "outputs": [],
   "source": [
    "singles_rate(singles_count)"
   ]
  },
  {
   "cell_type": "code",
   "execution_count": null,
   "id": "3c768cb7",
   "metadata": {},
   "outputs": [],
   "source": []
  }
 ],
 "metadata": {
  "kernelspec": {
   "display_name": "pet",
   "language": "python",
   "name": "python3"
  },
  "language_info": {
   "codemirror_mode": {
    "name": "ipython",
    "version": 3
   },
   "file_extension": ".py",
   "mimetype": "text/x-python",
   "name": "python",
   "nbconvert_exporter": "python",
   "pygments_lexer": "ipython3",
   "version": "3.11.11"
  }
 },
 "nbformat": 4,
 "nbformat_minor": 5
}
