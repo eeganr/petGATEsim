{
 "cells": [
  {
   "cell_type": "code",
   "execution_count": 1,
   "id": "60f535ca",
   "metadata": {},
   "outputs": [
    {
     "name": "stdout",
     "output_type": "stream",
     "text": [
      "\n",
      "              -  -  -  -  -  -  -  -   -  -  -  -\n",
      "              P  A  R  A  L  L  E  L | P  R  O  J\n",
      "              -  -  -  -  -  -  -  -   -  -  -  -\n",
      "\n",
      "        =================================================\n",
      "\n",
      "             Please consider citing our publication\n",
      "          ---------------------------------------------\n",
      "          Georg Schramm and Kris Thielemans:\n",
      "          \"PARALLELPROJ—an open-source framework for\n",
      "           fast calculation of projections in\n",
      "           tomography\"\n",
      "          Front. Nucl. Med., 08 January 2024\n",
      "          Sec. PET and SPECT, Vol 3\n",
      "          https://doi.org/10.3389/fnume.2023.1324562\n",
      "\n",
      "        =================================================\n",
      " \n",
      "        parallelproj C    lib         ..: C:\\Users\\eegan\\miniconda3\\envs\\pet\\Library\\bin\\parallelproj_c.dll\n",
      "        parallelproj CUDA lib         ..: None\n",
      "        parallelproj CUDA kernel file ..: None\n",
      "        parallelproj CUDA present     ..: False\n",
      "        parallelproj cupy enabled     ..: False\n",
      "        \n"
     ]
    }
   ],
   "source": [
    "import numpy as np\n",
    "import nibabel as nib\n",
    "import parallelproj\n",
    "import uproot\n",
    "\n",
    "# === CONFIG ===\n",
    "input_root_file = \"pastoutput/output2.root\"\n",
    "cont_magnitude = 1e-5\n",
    "num_TOF_bins = 9\n",
    "TOF_bin_width = 29\n",
    "sigma_TOF = 60\n",
    "num_iterations = 2\n",
    "num_subsets = 8\n",
    "image_shape = (200, 200, 700)  # (x, y, z) voxels # originally (310, 310, 310)\n",
    "voxel_size = (0.1, 0.1, 0.1)  #mm #originally (1,1,1)\n",
    "radius_mm = 10 # orinally 130 (mm)\n",
    "use_tof = True # originally False"
   ]
  },
  {
   "cell_type": "code",
   "execution_count": 2,
   "id": "bdd46977",
   "metadata": {},
   "outputs": [
    {
     "name": "stdout",
     "output_type": "stream",
     "text": [
      "15916\n"
     ]
    }
   ],
   "source": [
    "file = uproot.open(input_root_file)\n",
    "tree = file[\"Singles;16\"]\n",
    "n_singles = tree.num_entries\n",
    "print(n_singles)"
   ]
  },
  {
   "cell_type": "code",
   "execution_count": 3,
   "id": "3564a68d",
   "metadata": {},
   "outputs": [
    {
     "name": "stdout",
     "output_type": "stream",
     "text": [
      "Overall singles rate: 15916.00 events/s\n"
     ]
    }
   ],
   "source": [
    "time_array = tree[\"time\"].array(library=\"np\")\n",
    "total_time_s = time_array.max()\n",
    "singles_rate = n_singles / total_time_s\n",
    "print(f\"Overall singles rate: {singles_rate:.2f} events/s\")\n"
   ]
  },
  {
   "cell_type": "code",
   "execution_count": 4,
   "id": "bd615db3",
   "metadata": {},
   "outputs": [
    {
     "data": {
      "text/plain": [
       "['Hits;16',\n",
       " 'Hits;15',\n",
       " 'Singles;16',\n",
       " 'Singles;15',\n",
       " 'latest_event_ID;1',\n",
       " 'total_nb_primaries;1',\n",
       " 'OpticalData;1',\n",
       " 'Coincidences;1',\n",
       " 'delay;1']"
      ]
     },
     "execution_count": 4,
     "metadata": {},
     "output_type": "execute_result"
    }
   ],
   "source": [
    "file.keys()"
   ]
  },
  {
   "cell_type": "code",
   "execution_count": 5,
   "id": "2b9e05a6",
   "metadata": {},
   "outputs": [
    {
     "data": {
      "text/plain": [
       "['PDGEncoding',\n",
       " 'trackID',\n",
       " 'parentID',\n",
       " 'trackLocalTime',\n",
       " 'time',\n",
       " 'edep',\n",
       " 'stepLength',\n",
       " 'trackLength',\n",
       " 'posX',\n",
       " 'posY',\n",
       " 'posZ',\n",
       " 'localPosX',\n",
       " 'localPosY',\n",
       " 'localPosZ',\n",
       " 'momDirX',\n",
       " 'momDirY',\n",
       " 'momDirZ',\n",
       " 'gantryID',\n",
       " 'rsectorID',\n",
       " 'moduleID',\n",
       " 'submoduleID',\n",
       " 'crystalID',\n",
       " 'layerID',\n",
       " 'photonID',\n",
       " 'nPhantomCompton',\n",
       " 'nCrystalCompton',\n",
       " 'nPhantomRayleigh',\n",
       " 'nCrystalRayleigh',\n",
       " 'primaryID',\n",
       " 'sourcePosX',\n",
       " 'sourcePosY',\n",
       " 'sourcePosZ',\n",
       " 'sourceID',\n",
       " 'eventID',\n",
       " 'runID',\n",
       " 'axialPos',\n",
       " 'rotationAngle',\n",
       " 'volumeID',\n",
       " 'processName',\n",
       " 'comptVolName',\n",
       " 'RayleighVolName']"
      ]
     },
     "execution_count": 5,
     "metadata": {},
     "output_type": "execute_result"
    }
   ],
   "source": [
    "file['Hits;16'].keys()"
   ]
  },
  {
   "cell_type": "code",
   "execution_count": 6,
   "id": "23775b15",
   "metadata": {},
   "outputs": [
    {
     "data": {
      "text/html": [
       "<pre>[2.26e-05,\n",
       " 2.93e-05,\n",
       " 8.94e-05,\n",
       " 0.00012,\n",
       " 0.000232,\n",
       " 0.000232,\n",
       " 0.000282,\n",
       " 0.000287,\n",
       " 0.000287,\n",
       " 0.000421,\n",
       " ...,\n",
       " 0.999,\n",
       " 0.999,\n",
       " 0.999,\n",
       " 0.999,\n",
       " 0.999,\n",
       " 1,\n",
       " 1,\n",
       " 1,\n",
       " 1]\n",
       "---------------------\n",
       "backend: cpu\n",
       "nbytes: 127.3 kB\n",
       "type: 15916 * float64</pre>"
      ],
      "text/plain": [
       "<Array [2.26e-05, 2.93e-05, 8.94e-05, ..., 1, 1, 1] type='15916 * float64'>"
      ]
     },
     "execution_count": 6,
     "metadata": {},
     "output_type": "execute_result"
    }
   ],
   "source": [
    "file['Hits;16']['time'].array()"
   ]
  },
  {
   "cell_type": "code",
   "execution_count": 7,
   "id": "84710827",
   "metadata": {},
   "outputs": [
    {
     "data": {
      "text/html": [
       "<pre>[0.000232,\n",
       " 0.000287,\n",
       " 0.0015,\n",
       " 0.0028,\n",
       " 0.00494,\n",
       " 0.00525,\n",
       " 0.00543,\n",
       " 0.00977,\n",
       " 0.00986,\n",
       " 0.0103,\n",
       " ...,\n",
       " 0.98,\n",
       " 0.981,\n",
       " 0.981,\n",
       " 0.981,\n",
       " 0.983,\n",
       " 0.983,\n",
       " 0.983,\n",
       " 0.983,\n",
       " 0.985]\n",
       "-------------------\n",
       "backend: cpu\n",
       "nbytes: 6.4 kB\n",
       "type: 794 * float64</pre>"
      ],
      "text/plain": [
       "<Array [0.000232, 0.000287, 0.0015, ..., 0.983, 0.985] type='794 * float64'>"
      ]
     },
     "execution_count": 7,
     "metadata": {},
     "output_type": "execute_result"
    }
   ],
   "source": [
    "file['Coincidences;1']['time1'].array()"
   ]
  },
  {
   "cell_type": "code",
   "execution_count": null,
   "id": "f30d785a",
   "metadata": {},
   "outputs": [],
   "source": []
  }
 ],
 "metadata": {
  "kernelspec": {
   "display_name": "pet",
   "language": "python",
   "name": "python3"
  },
  "language_info": {
   "codemirror_mode": {
    "name": "ipython",
    "version": 3
   },
   "file_extension": ".py",
   "mimetype": "text/x-python",
   "name": "python",
   "nbconvert_exporter": "python",
   "pygments_lexer": "ipython3",
   "version": "3.11.11"
  }
 },
 "nbformat": 4,
 "nbformat_minor": 5
}
